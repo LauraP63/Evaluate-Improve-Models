{
 "cells": [
  {
   "cell_type": "markdown",
   "metadata": {},
   "source": [
    "# Feature selection\n",
    "This notebook explores feature selection. It uses the boston house price dataset built into Sklearn."
   ]
  },
  {
   "cell_type": "markdown",
   "metadata": {},
   "source": [
    "## Imports"
   ]
  },
  {
   "cell_type": "code",
   "execution_count": 33,
   "metadata": {},
   "outputs": [],
   "source": [
    "# Core libraries\n",
    "import pandas as pd\n",
    "\n",
    "# Sklearn processing\n",
    "from sklearn.preprocessing import MinMaxScaler\n",
    "from sklearn.model_selection import train_test_split"
   ]
  },
  {
   "cell_type": "markdown",
   "metadata": {},
   "source": [
    "## Load data"
   ]
  },
  {
   "cell_type": "code",
   "execution_count": 34,
   "metadata": {},
   "outputs": [],
   "source": [
    "# Load Boston housing data set\n",
    "boston = pd.read_csv(\"boston.csv\")"
   ]
  },
  {
   "cell_type": "markdown",
   "metadata": {},
   "source": [
    "## Split into X and y"
   ]
  },
  {
   "cell_type": "code",
   "execution_count": 35,
   "metadata": {},
   "outputs": [],
   "source": [
    "# Define the X (input) and y (target) features\n",
    "X = boston.drop(\"MEDV\", axis=1)\n",
    "y = boston[\"MEDV\"]"
   ]
  },
  {
   "cell_type": "markdown",
   "metadata": {},
   "source": [
    "## Scale features to same range"
   ]
  },
  {
   "cell_type": "code",
   "execution_count": 36,
   "metadata": {},
   "outputs": [
    {
     "name": "stderr",
     "output_type": "stream",
     "text": [
      "C:\\Users\\llewe\\Anaconda3\\lib\\site-packages\\sklearn\\preprocessing\\data.py:334: DataConversionWarning: Data with input dtype int64, float64 were all converted to float64 by MinMaxScaler.\n",
      "  return self.partial_fit(X, y)\n"
     ]
    }
   ],
   "source": [
    "# Rescale the input features\n",
    "scaler = MinMaxScaler(feature_range=(0,1))\n",
    "X_ = scaler.fit_transform(X)\n",
    "X = pd.DataFrame(X_, columns=X.columns)"
   ]
  },
  {
   "cell_type": "markdown",
   "metadata": {},
   "source": [
    "## Review features"
   ]
  },
  {
   "cell_type": "code",
   "execution_count": 40,
   "metadata": {},
   "outputs": [
    {
     "data": {
      "text/html": [
       "<div>\n",
       "<style scoped>\n",
       "    .dataframe tbody tr th:only-of-type {\n",
       "        vertical-align: middle;\n",
       "    }\n",
       "\n",
       "    .dataframe tbody tr th {\n",
       "        vertical-align: top;\n",
       "    }\n",
       "\n",
       "    .dataframe thead th {\n",
       "        text-align: right;\n",
       "    }\n",
       "</style>\n",
       "<table border=\"1\" class=\"dataframe\">\n",
       "  <thead>\n",
       "    <tr style=\"text-align: right;\">\n",
       "      <th></th>\n",
       "      <th>CRIM</th>\n",
       "      <th>ZN</th>\n",
       "      <th>INDUS</th>\n",
       "      <th>CHAS</th>\n",
       "      <th>NOX</th>\n",
       "      <th>RM</th>\n",
       "      <th>AGE</th>\n",
       "      <th>DIS</th>\n",
       "      <th>RAD</th>\n",
       "      <th>TAX</th>\n",
       "      <th>PTRATIO</th>\n",
       "      <th>LSTAT</th>\n",
       "    </tr>\n",
       "  </thead>\n",
       "  <tbody>\n",
       "    <tr>\n",
       "      <th>0</th>\n",
       "      <td>0.000000</td>\n",
       "      <td>0.18</td>\n",
       "      <td>0.067815</td>\n",
       "      <td>0.0</td>\n",
       "      <td>0.314815</td>\n",
       "      <td>0.577505</td>\n",
       "      <td>0.641607</td>\n",
       "      <td>0.269203</td>\n",
       "      <td>0.000000</td>\n",
       "      <td>0.208015</td>\n",
       "      <td>0.287234</td>\n",
       "      <td>0.089680</td>\n",
       "    </tr>\n",
       "    <tr>\n",
       "      <th>1</th>\n",
       "      <td>0.000236</td>\n",
       "      <td>0.00</td>\n",
       "      <td>0.242302</td>\n",
       "      <td>0.0</td>\n",
       "      <td>0.172840</td>\n",
       "      <td>0.547998</td>\n",
       "      <td>0.782698</td>\n",
       "      <td>0.348962</td>\n",
       "      <td>0.043478</td>\n",
       "      <td>0.104962</td>\n",
       "      <td>0.553191</td>\n",
       "      <td>0.204470</td>\n",
       "    </tr>\n",
       "    <tr>\n",
       "      <th>2</th>\n",
       "      <td>0.000236</td>\n",
       "      <td>0.00</td>\n",
       "      <td>0.242302</td>\n",
       "      <td>0.0</td>\n",
       "      <td>0.172840</td>\n",
       "      <td>0.694386</td>\n",
       "      <td>0.599382</td>\n",
       "      <td>0.348962</td>\n",
       "      <td>0.043478</td>\n",
       "      <td>0.104962</td>\n",
       "      <td>0.553191</td>\n",
       "      <td>0.063466</td>\n",
       "    </tr>\n",
       "    <tr>\n",
       "      <th>3</th>\n",
       "      <td>0.000293</td>\n",
       "      <td>0.00</td>\n",
       "      <td>0.063050</td>\n",
       "      <td>0.0</td>\n",
       "      <td>0.150206</td>\n",
       "      <td>0.658555</td>\n",
       "      <td>0.441813</td>\n",
       "      <td>0.448545</td>\n",
       "      <td>0.086957</td>\n",
       "      <td>0.066794</td>\n",
       "      <td>0.648936</td>\n",
       "      <td>0.033389</td>\n",
       "    </tr>\n",
       "    <tr>\n",
       "      <th>4</th>\n",
       "      <td>0.000705</td>\n",
       "      <td>0.00</td>\n",
       "      <td>0.063050</td>\n",
       "      <td>0.0</td>\n",
       "      <td>0.150206</td>\n",
       "      <td>0.687105</td>\n",
       "      <td>0.528321</td>\n",
       "      <td>0.448545</td>\n",
       "      <td>0.086957</td>\n",
       "      <td>0.066794</td>\n",
       "      <td>0.648936</td>\n",
       "      <td>0.099338</td>\n",
       "    </tr>\n",
       "  </tbody>\n",
       "</table>\n",
       "</div>"
      ],
      "text/plain": [
       "       CRIM   ZN     INDUS   CHAS       NOX        RM       AGE       DIS  \\\n",
       "0  0.000000  0.18  0.067815   0.0  0.314815  0.577505  0.641607  0.269203   \n",
       "1  0.000236  0.00  0.242302   0.0  0.172840  0.547998  0.782698  0.348962   \n",
       "2  0.000236  0.00  0.242302   0.0  0.172840  0.694386  0.599382  0.348962   \n",
       "3  0.000293  0.00  0.063050   0.0  0.150206  0.658555  0.441813  0.448545   \n",
       "4  0.000705  0.00  0.063050   0.0  0.150206  0.687105  0.528321  0.448545   \n",
       "\n",
       "        RAD       TAX   PTRATIO     LSTAT  \n",
       "0  0.000000  0.208015  0.287234  0.089680  \n",
       "1  0.043478  0.104962  0.553191  0.204470  \n",
       "2  0.043478  0.104962  0.553191  0.063466  \n",
       "3  0.086957  0.066794  0.648936  0.033389  \n",
       "4  0.086957  0.066794  0.648936  0.099338  "
      ]
     },
     "execution_count": 40,
     "metadata": {},
     "output_type": "execute_result"
    }
   ],
   "source": [
    "# View the input features\n",
    "X.head()"
   ]
  },
  {
   "cell_type": "code",
   "execution_count": 41,
   "metadata": {},
   "outputs": [
    {
     "data": {
      "text/plain": [
       "CRIM       0.009347\n",
       " ZN        0.054394\n",
       "INDUS      0.063242\n",
       "CHAS       0.064513\n",
       "NOX        0.056850\n",
       "RM         0.018124\n",
       "AGE        0.084039\n",
       "DIS        0.036665\n",
       "RAD        0.143320\n",
       "TAX        0.103450\n",
       "PTRATIO    0.053044\n",
       "LSTAT      0.038828\n",
       "dtype: float64"
      ]
     },
     "execution_count": 41,
     "metadata": {},
     "output_type": "execute_result"
    }
   ],
   "source": [
    "# View the variance\n",
    "X.var()"
   ]
  },
  {
   "cell_type": "markdown",
   "metadata": {},
   "source": [
    "## Find and remove low variance features"
   ]
  },
  {
   "cell_type": "code",
   "execution_count": 42,
   "metadata": {},
   "outputs": [
    {
     "name": "stdout",
     "output_type": "stream",
     "text": [
      "(339, 12)\n",
      "(167, 12)\n"
     ]
    }
   ],
   "source": [
    "# Split into train (2/3) and test (1/3) sets\n",
    "test_size = 0.33\n",
    "seed = 7\n",
    "X_train, X_test, y_train, y_test = train_test_split(X, y, test_size=test_size, random_state=seed)\n",
    "print(X_train.shape)\n",
    "print(X_test.shape)"
   ]
  },
  {
   "cell_type": "code",
   "execution_count": 15,
   "metadata": {},
   "outputs": [
    {
     "name": "stdout",
     "output_type": "stream",
     "text": [
      "Feature selection [False  True  True  True  True False  True  True  True  True  True  True]\n",
      "Selected features: [' ZN ', 'INDUS ', 'CHAS', 'NOX', 'AGE', 'DIS', 'RAD', 'TAX', 'PTRATIO', 'LSTAT']\n",
      "Removed features: ['CRIM', 'RM']\n"
     ]
    }
   ],
   "source": [
    "# Perform feature selection using a variance threshold\n",
    "from sklearn.feature_selection import VarianceThreshold\n",
    "\n",
    "sel = VarianceThreshold(threshold=(0.02))\n",
    "sel.fit(X_train)\n",
    "\n",
    "print(\"Feature selection\", sel.get_support())\n",
    "print(\"Selected features:\", list(X.columns[sel.get_support()]))\n",
    "print(\"Removed features:\", list(X.columns[~sel.get_support()]))"
   ]
  },
  {
   "cell_type": "code",
   "execution_count": 16,
   "metadata": {},
   "outputs": [],
   "source": [
    "# Transform (remove low variance features)\n",
    "X_train = sel.transform(X_train)\n",
    "X_test = sel.transform(X_test)"
   ]
  },
  {
   "cell_type": "code",
   "execution_count": 17,
   "metadata": {},
   "outputs": [
    {
     "name": "stdout",
     "output_type": "stream",
     "text": [
      "(339, 10)\n",
      "(167, 10)\n"
     ]
    }
   ],
   "source": [
    "print(X_train.shape)\n",
    "print(X_test.shape)"
   ]
  },
  {
   "cell_type": "markdown",
   "metadata": {},
   "source": [
    "## Select features using K-best"
   ]
  },
  {
   "cell_type": "code",
   "execution_count": 18,
   "metadata": {},
   "outputs": [
    {
     "name": "stdout",
     "output_type": "stream",
     "text": [
      "(339, 12)\n",
      "(167, 12)\n"
     ]
    }
   ],
   "source": [
    "# Split into train (2/3) and test (1/3) sets\n",
    "test_size = 0.33\n",
    "seed = 7\n",
    "X_train, X_test, y_train, y_test = train_test_split(X, y, test_size=test_size, random_state=seed)\n",
    "print(X_train.shape)\n",
    "print(X_test.shape)"
   ]
  },
  {
   "cell_type": "code",
   "execution_count": 19,
   "metadata": {},
   "outputs": [
    {
     "name": "stdout",
     "output_type": "stream",
     "text": [
      "Feature selection [False False False False False  True False False False False  True  True]\n",
      "Feature scores [ 71.7505991   45.3094539  102.27204507  12.96777535  75.75687056\n",
      " 442.09927992  46.82483075  22.32450311  54.40234107  94.37168391\n",
      " 109.47144894 384.84276122]\n",
      "Selected features: ['RM', 'PTRATIO', 'LSTAT']\n",
      "Removed features: ['CRIM', ' ZN ', 'INDUS ', 'CHAS', 'NOX', 'AGE', 'DIS', 'RAD', 'TAX']\n"
     ]
    }
   ],
   "source": [
    "# Perform feature selection using a univariate statistical test\n",
    "from sklearn.feature_selection import SelectKBest\n",
    "from sklearn.feature_selection import f_classif      # use this for classification tasks\n",
    "from sklearn.feature_selection import f_regression   # use this for regression tasks\n",
    "\n",
    "kbest = SelectKBest(score_func=f_regression, k=3)\n",
    "kbest.fit(X_train, y_train)\n",
    "\n",
    "print(\"Feature selection\", kbest.get_support())\n",
    "print(\"Feature scores\", kbest.scores_)\n",
    "print(\"Selected features:\", list(X.columns[kbest.get_support()]))\n",
    "print(\"Removed features:\", list(X.columns[~kbest.get_support()]))"
   ]
  },
  {
   "cell_type": "code",
   "execution_count": 20,
   "metadata": {},
   "outputs": [],
   "source": [
    "# Transform (remove features not selected)\n",
    "X_train = kbest.transform(X_train)\n",
    "X_test = kbest.transform(X_test)"
   ]
  },
  {
   "cell_type": "code",
   "execution_count": 21,
   "metadata": {},
   "outputs": [
    {
     "name": "stdout",
     "output_type": "stream",
     "text": [
      "(339, 3)\n",
      "(167, 3)\n"
     ]
    }
   ],
   "source": [
    "print(X_train.shape)\n",
    "print(X_test.shape)"
   ]
  },
  {
   "cell_type": "markdown",
   "metadata": {},
   "source": [
    "## Remove highly correlated features"
   ]
  },
  {
   "cell_type": "code",
   "execution_count": 22,
   "metadata": {},
   "outputs": [
    {
     "name": "stdout",
     "output_type": "stream",
     "text": [
      "(339, 12)\n",
      "(167, 12)\n"
     ]
    }
   ],
   "source": [
    "# Split into train (2/3) and test (1/3) sets\n",
    "test_size = 0.33\n",
    "seed = 7\n",
    "X_train, X_test, y_train, y_test = train_test_split(X, y, test_size=test_size, random_state=seed)\n",
    "print(X_train.shape)\n",
    "print(X_test.shape)"
   ]
  },
  {
   "cell_type": "code",
   "execution_count": 23,
   "metadata": {},
   "outputs": [
    {
     "data": {
      "text/html": [
       "<div>\n",
       "<style scoped>\n",
       "    .dataframe tbody tr th:only-of-type {\n",
       "        vertical-align: middle;\n",
       "    }\n",
       "\n",
       "    .dataframe tbody tr th {\n",
       "        vertical-align: top;\n",
       "    }\n",
       "\n",
       "    .dataframe thead th {\n",
       "        text-align: right;\n",
       "    }\n",
       "</style>\n",
       "<table border=\"1\" class=\"dataframe\">\n",
       "  <thead>\n",
       "    <tr style=\"text-align: right;\">\n",
       "      <th></th>\n",
       "      <th>CRIM</th>\n",
       "      <th>ZN</th>\n",
       "      <th>INDUS</th>\n",
       "      <th>CHAS</th>\n",
       "      <th>NOX</th>\n",
       "      <th>RM</th>\n",
       "      <th>AGE</th>\n",
       "      <th>DIS</th>\n",
       "      <th>RAD</th>\n",
       "      <th>TAX</th>\n",
       "      <th>PTRATIO</th>\n",
       "      <th>LSTAT</th>\n",
       "    </tr>\n",
       "  </thead>\n",
       "  <tbody>\n",
       "    <tr>\n",
       "      <th>CRIM</th>\n",
       "      <td>1.000000</td>\n",
       "      <td>-0.206492</td>\n",
       "      <td>0.424996</td>\n",
       "      <td>-0.072714</td>\n",
       "      <td>0.474588</td>\n",
       "      <td>-0.259427</td>\n",
       "      <td>0.370112</td>\n",
       "      <td>-0.396235</td>\n",
       "      <td>0.690909</td>\n",
       "      <td>0.633815</td>\n",
       "      <td>0.306822</td>\n",
       "      <td>0.544767</td>\n",
       "    </tr>\n",
       "    <tr>\n",
       "      <th>ZN</th>\n",
       "      <td>-0.206492</td>\n",
       "      <td>1.000000</td>\n",
       "      <td>-0.505246</td>\n",
       "      <td>-0.002166</td>\n",
       "      <td>-0.504834</td>\n",
       "      <td>0.314499</td>\n",
       "      <td>-0.555141</td>\n",
       "      <td>0.653629</td>\n",
       "      <td>-0.300758</td>\n",
       "      <td>-0.295111</td>\n",
       "      <td>-0.406830</td>\n",
       "      <td>-0.395578</td>\n",
       "    </tr>\n",
       "    <tr>\n",
       "      <th>INDUS</th>\n",
       "      <td>0.424996</td>\n",
       "      <td>-0.505246</td>\n",
       "      <td>1.000000</td>\n",
       "      <td>0.021036</td>\n",
       "      <td>0.747521</td>\n",
       "      <td>-0.391447</td>\n",
       "      <td>0.632544</td>\n",
       "      <td>-0.690915</td>\n",
       "      <td>0.563693</td>\n",
       "      <td>0.696250</td>\n",
       "      <td>0.385761</td>\n",
       "      <td>0.596453</td>\n",
       "    </tr>\n",
       "    <tr>\n",
       "      <th>CHAS</th>\n",
       "      <td>-0.072714</td>\n",
       "      <td>-0.002166</td>\n",
       "      <td>0.021036</td>\n",
       "      <td>1.000000</td>\n",
       "      <td>0.023370</td>\n",
       "      <td>0.090445</td>\n",
       "      <td>0.058438</td>\n",
       "      <td>-0.067210</td>\n",
       "      <td>-0.067436</td>\n",
       "      <td>-0.102532</td>\n",
       "      <td>-0.151995</td>\n",
       "      <td>-0.067241</td>\n",
       "    </tr>\n",
       "    <tr>\n",
       "      <th>NOX</th>\n",
       "      <td>0.474588</td>\n",
       "      <td>-0.504834</td>\n",
       "      <td>0.747521</td>\n",
       "      <td>0.023370</td>\n",
       "      <td>1.000000</td>\n",
       "      <td>-0.334604</td>\n",
       "      <td>0.718207</td>\n",
       "      <td>-0.762189</td>\n",
       "      <td>0.593436</td>\n",
       "      <td>0.648528</td>\n",
       "      <td>0.166220</td>\n",
       "      <td>0.591311</td>\n",
       "    </tr>\n",
       "    <tr>\n",
       "      <th>RM</th>\n",
       "      <td>-0.259427</td>\n",
       "      <td>0.314499</td>\n",
       "      <td>-0.391447</td>\n",
       "      <td>0.090445</td>\n",
       "      <td>-0.334604</td>\n",
       "      <td>1.000000</td>\n",
       "      <td>-0.220623</td>\n",
       "      <td>0.219946</td>\n",
       "      <td>-0.199327</td>\n",
       "      <td>-0.286785</td>\n",
       "      <td>-0.340969</td>\n",
       "      <td>-0.640725</td>\n",
       "    </tr>\n",
       "    <tr>\n",
       "      <th>AGE</th>\n",
       "      <td>0.370112</td>\n",
       "      <td>-0.555141</td>\n",
       "      <td>0.632544</td>\n",
       "      <td>0.058438</td>\n",
       "      <td>0.718207</td>\n",
       "      <td>-0.220623</td>\n",
       "      <td>1.000000</td>\n",
       "      <td>-0.746673</td>\n",
       "      <td>0.435364</td>\n",
       "      <td>0.481458</td>\n",
       "      <td>0.228250</td>\n",
       "      <td>0.595197</td>\n",
       "    </tr>\n",
       "    <tr>\n",
       "      <th>DIS</th>\n",
       "      <td>-0.396235</td>\n",
       "      <td>0.653629</td>\n",
       "      <td>-0.690915</td>\n",
       "      <td>-0.067210</td>\n",
       "      <td>-0.762189</td>\n",
       "      <td>0.219946</td>\n",
       "      <td>-0.746673</td>\n",
       "      <td>1.000000</td>\n",
       "      <td>-0.479377</td>\n",
       "      <td>-0.504713</td>\n",
       "      <td>-0.253426</td>\n",
       "      <td>-0.485031</td>\n",
       "    </tr>\n",
       "    <tr>\n",
       "      <th>RAD</th>\n",
       "      <td>0.690909</td>\n",
       "      <td>-0.300758</td>\n",
       "      <td>0.563693</td>\n",
       "      <td>-0.067436</td>\n",
       "      <td>0.593436</td>\n",
       "      <td>-0.199327</td>\n",
       "      <td>0.435364</td>\n",
       "      <td>-0.479377</td>\n",
       "      <td>1.000000</td>\n",
       "      <td>0.897450</td>\n",
       "      <td>0.450225</td>\n",
       "      <td>0.493573</td>\n",
       "    </tr>\n",
       "    <tr>\n",
       "      <th>TAX</th>\n",
       "      <td>0.633815</td>\n",
       "      <td>-0.295111</td>\n",
       "      <td>0.696250</td>\n",
       "      <td>-0.102532</td>\n",
       "      <td>0.648528</td>\n",
       "      <td>-0.286785</td>\n",
       "      <td>0.481458</td>\n",
       "      <td>-0.504713</td>\n",
       "      <td>0.897450</td>\n",
       "      <td>1.000000</td>\n",
       "      <td>0.446179</td>\n",
       "      <td>0.539611</td>\n",
       "    </tr>\n",
       "    <tr>\n",
       "      <th>PTRATIO</th>\n",
       "      <td>0.306822</td>\n",
       "      <td>-0.406830</td>\n",
       "      <td>0.385761</td>\n",
       "      <td>-0.151995</td>\n",
       "      <td>0.166220</td>\n",
       "      <td>-0.340969</td>\n",
       "      <td>0.228250</td>\n",
       "      <td>-0.253426</td>\n",
       "      <td>0.450225</td>\n",
       "      <td>0.446179</td>\n",
       "      <td>1.000000</td>\n",
       "      <td>0.360646</td>\n",
       "    </tr>\n",
       "    <tr>\n",
       "      <th>LSTAT</th>\n",
       "      <td>0.544767</td>\n",
       "      <td>-0.395578</td>\n",
       "      <td>0.596453</td>\n",
       "      <td>-0.067241</td>\n",
       "      <td>0.591311</td>\n",
       "      <td>-0.640725</td>\n",
       "      <td>0.595197</td>\n",
       "      <td>-0.485031</td>\n",
       "      <td>0.493573</td>\n",
       "      <td>0.539611</td>\n",
       "      <td>0.360646</td>\n",
       "      <td>1.000000</td>\n",
       "    </tr>\n",
       "  </tbody>\n",
       "</table>\n",
       "</div>"
      ],
      "text/plain": [
       "             CRIM       ZN     INDUS       CHAS       NOX        RM       AGE  \\\n",
       "CRIM     1.000000 -0.206492  0.424996 -0.072714  0.474588 -0.259427  0.370112   \n",
       " ZN     -0.206492  1.000000 -0.505246 -0.002166 -0.504834  0.314499 -0.555141   \n",
       "INDUS    0.424996 -0.505246  1.000000  0.021036  0.747521 -0.391447  0.632544   \n",
       "CHAS    -0.072714 -0.002166  0.021036  1.000000  0.023370  0.090445  0.058438   \n",
       "NOX      0.474588 -0.504834  0.747521  0.023370  1.000000 -0.334604  0.718207   \n",
       "RM      -0.259427  0.314499 -0.391447  0.090445 -0.334604  1.000000 -0.220623   \n",
       "AGE      0.370112 -0.555141  0.632544  0.058438  0.718207 -0.220623  1.000000   \n",
       "DIS     -0.396235  0.653629 -0.690915 -0.067210 -0.762189  0.219946 -0.746673   \n",
       "RAD      0.690909 -0.300758  0.563693 -0.067436  0.593436 -0.199327  0.435364   \n",
       "TAX      0.633815 -0.295111  0.696250 -0.102532  0.648528 -0.286785  0.481458   \n",
       "PTRATIO  0.306822 -0.406830  0.385761 -0.151995  0.166220 -0.340969  0.228250   \n",
       "LSTAT    0.544767 -0.395578  0.596453 -0.067241  0.591311 -0.640725  0.595197   \n",
       "\n",
       "              DIS       RAD       TAX   PTRATIO     LSTAT  \n",
       "CRIM    -0.396235  0.690909  0.633815  0.306822  0.544767  \n",
       " ZN      0.653629 -0.300758 -0.295111 -0.406830 -0.395578  \n",
       "INDUS   -0.690915  0.563693  0.696250  0.385761  0.596453  \n",
       "CHAS    -0.067210 -0.067436 -0.102532 -0.151995 -0.067241  \n",
       "NOX     -0.762189  0.593436  0.648528  0.166220  0.591311  \n",
       "RM       0.219946 -0.199327 -0.286785 -0.340969 -0.640725  \n",
       "AGE     -0.746673  0.435364  0.481458  0.228250  0.595197  \n",
       "DIS      1.000000 -0.479377 -0.504713 -0.253426 -0.485031  \n",
       "RAD     -0.479377  1.000000  0.897450  0.450225  0.493573  \n",
       "TAX     -0.504713  0.897450  1.000000  0.446179  0.539611  \n",
       "PTRATIO -0.253426  0.450225  0.446179  1.000000  0.360646  \n",
       "LSTAT   -0.485031  0.493573  0.539611  0.360646  1.000000  "
      ]
     },
     "execution_count": 23,
     "metadata": {},
     "output_type": "execute_result"
    }
   ],
   "source": [
    "# Inspect the correlations\n",
    "X_train.corr()"
   ]
  },
  {
   "cell_type": "code",
   "execution_count": 24,
   "metadata": {},
   "outputs": [],
   "source": [
    "# Function to list features that are correlated\n",
    "# Adds the first of the correlated pair only (not both)\n",
    "def correlatedFeatures(dataset, threshold):\n",
    "    correlated_columns = set()\n",
    "    correlations = dataset.corr()\n",
    "    for i in range(len(correlations)):\n",
    "        for j in range(i):\n",
    "            if abs(correlations.iloc[i,j]) > threshold:\n",
    "                correlated_columns.add(correlations.columns[i])\n",
    "    return correlated_columns"
   ]
  },
  {
   "cell_type": "code",
   "execution_count": 25,
   "metadata": {},
   "outputs": [
    {
     "data": {
      "text/plain": [
       "{'TAX'}"
      ]
     },
     "execution_count": 25,
     "metadata": {},
     "output_type": "execute_result"
    }
   ],
   "source": [
    "# Get a set of correlated features, based on threshold correlation of 0.85\n",
    "cf = correlatedFeatures(X_train, 0.85)\n",
    "cf"
   ]
  },
  {
   "cell_type": "code",
   "execution_count": 26,
   "metadata": {},
   "outputs": [],
   "source": [
    "# Remove the correlated features\n",
    "X_train = X_train.drop(cf, axis=1)\n",
    "X_test = X_test.drop(cf, axis=1)"
   ]
  },
  {
   "cell_type": "code",
   "execution_count": 27,
   "metadata": {},
   "outputs": [
    {
     "name": "stdout",
     "output_type": "stream",
     "text": [
      "(339, 11)\n",
      "(167, 11)\n"
     ]
    }
   ],
   "source": [
    "print(X_train.shape)\n",
    "print(X_test.shape)"
   ]
  },
  {
   "cell_type": "markdown",
   "metadata": {},
   "source": [
    "## Select features using Recusive Feature Elimination (RFE)"
   ]
  },
  {
   "cell_type": "code",
   "execution_count": 28,
   "metadata": {},
   "outputs": [
    {
     "name": "stdout",
     "output_type": "stream",
     "text": [
      "(339, 12)\n",
      "(167, 12)\n"
     ]
    }
   ],
   "source": [
    "# Split into train (2/3) and test (1/3) sets\n",
    "test_size = 0.33\n",
    "seed = 7\n",
    "X_train, X_test, y_train, y_test = train_test_split(X, y, test_size=test_size, random_state=seed)\n",
    "print(X_train.shape)\n",
    "print(X_test.shape)"
   ]
  },
  {
   "cell_type": "code",
   "execution_count": 29,
   "metadata": {},
   "outputs": [
    {
     "name": "stdout",
     "output_type": "stream",
     "text": [
      "Feature selection [False False False False False  True False False False False  True  True]\n",
      "Feature ranking [ 4  7 10  8  3  1  9  2  6  5  1  1]\n",
      "Selected features: ['RM', 'PTRATIO', 'LSTAT']\n"
     ]
    }
   ],
   "source": [
    "# Feature selection using Recursive Feature Elimimation\n",
    "from sklearn.linear_model import LinearRegression\n",
    "from sklearn.feature_selection import RFE\n",
    "\n",
    "# Create a model\n",
    "model = LinearRegression()\n",
    "\n",
    "# Select the best 3 features according to RFE\n",
    "rfe = RFE(model, 3)\n",
    "rfe.fit(X_train, y_train)\n",
    "\n",
    "print(\"Feature selection\", rfe.support_)\n",
    "print(\"Feature ranking\", rfe.ranking_)\n",
    "print(\"Selected features:\", list(X.columns[rfe.support_]))"
   ]
  },
  {
   "cell_type": "code",
   "execution_count": 30,
   "metadata": {},
   "outputs": [],
   "source": [
    "# Transform (remove features not selected)\n",
    "X_train = rfe.transform(X_train)\n",
    "X_test = rfe.transform(X_test)"
   ]
  },
  {
   "cell_type": "code",
   "execution_count": 31,
   "metadata": {},
   "outputs": [
    {
     "name": "stdout",
     "output_type": "stream",
     "text": [
      "(339, 3)\n",
      "(167, 3)\n"
     ]
    }
   ],
   "source": [
    "print(X_train.shape)\n",
    "print(X_test.shape)"
   ]
  }
 ],
 "metadata": {
  "kernelspec": {
   "display_name": "Python 3",
   "language": "python",
   "name": "python3"
  },
  "language_info": {
   "codemirror_mode": {
    "name": "ipython",
    "version": 3
   },
   "file_extension": ".py",
   "mimetype": "text/x-python",
   "name": "python",
   "nbconvert_exporter": "python",
   "pygments_lexer": "ipython3",
   "version": "3.7.3"
  }
 },
 "nbformat": 4,
 "nbformat_minor": 2
}
