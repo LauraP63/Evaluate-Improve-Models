{
 "cells": [
  {
   "cell_type": "markdown",
   "metadata": {},
   "source": [
    "# Resampling\n",
    "This notebook explores resampling. It uses the boston house price dataset built into Sklearn."
   ]
  },
  {
   "cell_type": "markdown",
   "metadata": {},
   "source": [
    "## Imports"
   ]
  },
  {
   "cell_type": "code",
   "execution_count": 1,
   "metadata": {},
   "outputs": [],
   "source": [
    "# Core libraries\n",
    "import pandas as pd\n",
    "\n",
    "# Sklearn processing\n",
    "from sklearn.preprocessing import MinMaxScaler\n",
    "from sklearn.model_selection import train_test_split\n",
    "from sklearn.model_selection import KFold\n",
    "from sklearn.model_selection import cross_val_score\n",
    "from sklearn.model_selection import cross_val_predict\n",
    "\n",
    "# Sklearn regression algorithms\n",
    "from sklearn.linear_model import LinearRegression\n",
    "\n",
    "# Sklearn regression model evaluation functions\n",
    "from sklearn.metrics import mean_absolute_error\n",
    "from sklearn.metrics import mean_squared_error\n",
    "from math import sqrt\n",
    "from sklearn.metrics import r2_score"
   ]
  },
  {
   "cell_type": "markdown",
   "metadata": {},
   "source": [
    "## Load data, split into X and y and scale data"
   ]
  },
  {
   "cell_type": "code",
   "execution_count": 2,
   "metadata": {},
   "outputs": [
    {
     "name": "stderr",
     "output_type": "stream",
     "text": [
      "C:\\Users\\llewe\\Anaconda3\\lib\\site-packages\\sklearn\\preprocessing\\data.py:334: DataConversionWarning: Data with input dtype int64, float64 were all converted to float64 by MinMaxScaler.\n",
      "  return self.partial_fit(X, y)\n"
     ]
    }
   ],
   "source": [
    "# Load Boston housing data set\n",
    "boston = pd.read_csv(\"boston.csv\")\n",
    "\n",
    "# Define the X (input) and y (target) features\n",
    "X = boston.drop(\"MEDV\", axis=1)\n",
    "y = boston[\"MEDV\"]\n",
    "\n",
    "# Rescale the input features\n",
    "scaler = MinMaxScaler(feature_range=(0,1))\n",
    "X = scaler.fit_transform(X)"
   ]
  },
  {
   "cell_type": "markdown",
   "metadata": {},
   "source": [
    "## Resample using train / test split method"
   ]
  },
  {
   "cell_type": "code",
   "execution_count": 3,
   "metadata": {},
   "outputs": [
    {
     "data": {
      "text/plain": [
       "0.6590081405512094"
      ]
     },
     "execution_count": 3,
     "metadata": {},
     "output_type": "execute_result"
    }
   ],
   "source": [
    "# Train test split\n",
    "test_size = 0.33\n",
    "seed = 7\n",
    "X_train, X_test, y_train, y_test = train_test_split(X, y, test_size=test_size, random_state=seed)\n",
    "\n",
    "# Create model\n",
    "model = LinearRegression()\n",
    "\n",
    "#Fit model\n",
    "model.fit(X_train, y_train)\n",
    "\n",
    "# Evaluate\n",
    "predictions = model.predict(X_test)\n",
    "r2_score(y_test, predictions)"
   ]
  },
  {
   "cell_type": "markdown",
   "metadata": {},
   "source": [
    "## Resample using k-fold cross-validation method"
   ]
  },
  {
   "cell_type": "code",
   "execution_count": 4,
   "metadata": {},
   "outputs": [
    {
     "name": "stdout",
     "output_type": "stream",
     "text": [
      "[0.57790144 0.76990344 0.64138006 0.73139225 0.80395154]\n",
      "Mean: 0.7049057438479572\n",
      "Std: 0.08354868173256094\n"
     ]
    }
   ],
   "source": [
    "# Create 5 folds\n",
    "seed = 7\n",
    "kfold = KFold(n_splits=5, shuffle=True, random_state=seed)\n",
    "\n",
    "# Create a model \n",
    "model = LinearRegression()\n",
    "\n",
    "# Train and evaluate multiple models using kfolds\n",
    "results = cross_val_score(model, X, y, cv=kfold, scoring='r2')\n",
    "print(results)\n",
    "print(\"Mean:\", results.mean())\n",
    "print(\"Std:\", results.std())"
   ]
  },
  {
   "cell_type": "markdown",
   "metadata": {},
   "source": [
    "### Finalise model"
   ]
  },
  {
   "cell_type": "markdown",
   "metadata": {},
   "source": [
    "Note that the above model is not fitted when cross_val_score() returns.  The following inspection of the model returns an error:"
   ]
  },
  {
   "cell_type": "code",
   "execution_count": 5,
   "metadata": {},
   "outputs": [
    {
     "ename": "AttributeError",
     "evalue": "'LinearRegression' object has no attribute 'coef_'",
     "output_type": "error",
     "traceback": [
      "\u001b[1;31m---------------------------------------------------------------------------\u001b[0m",
      "\u001b[1;31mAttributeError\u001b[0m                            Traceback (most recent call last)",
      "\u001b[1;32m<ipython-input-5-4650e3f7c16c>\u001b[0m in \u001b[0;36m<module>\u001b[1;34m\u001b[0m\n\u001b[1;32m----> 1\u001b[1;33m \u001b[0mmodel\u001b[0m\u001b[1;33m.\u001b[0m\u001b[0mcoef_\u001b[0m\u001b[1;33m\u001b[0m\u001b[1;33m\u001b[0m\u001b[0m\n\u001b[0m",
      "\u001b[1;31mAttributeError\u001b[0m: 'LinearRegression' object has no attribute 'coef_'"
     ]
    }
   ],
   "source": [
    "model.coef_"
   ]
  },
  {
   "cell_type": "markdown",
   "metadata": {},
   "source": [
    "If we want to proceed to build our final model we can fit it using all the data:"
   ]
  },
  {
   "cell_type": "code",
   "execution_count": 6,
   "metadata": {},
   "outputs": [
    {
     "data": {
      "text/plain": [
       "LinearRegression(copy_X=True, fit_intercept=True, n_jobs=None,\n",
       "         normalize=False)"
      ]
     },
     "execution_count": 6,
     "metadata": {},
     "output_type": "execute_result"
    }
   ],
   "source": [
    "model.fit(X, y)"
   ]
  },
  {
   "cell_type": "markdown",
   "metadata": {},
   "source": [
    "Get the cross-validation predictions:"
   ]
  },
  {
   "cell_type": "code",
   "execution_count": 7,
   "metadata": {},
   "outputs": [
    {
     "data": {
      "text/plain": [
       "array([29.78263869, 25.18759152, 31.32588939, 28.58704763, 27.62169827,\n",
       "       25.8584904 , 22.75120309, 18.59873664, 10.76099096, 18.08494152,\n",
       "       18.51605175, 20.76908112, 20.48931998, 19.22031474, 19.44404476,\n",
       "       19.29017101, 20.39068546, 16.95335226, 17.63863428, 18.41757429,\n",
       "       12.3666236 , 17.60176948, 16.40430934, 13.5872312 , 15.17196734,\n",
       "       14.1307111 , 15.58348197, 15.05117627, 19.36015011, 20.77348932,\n",
       "       12.24408724, 18.15630888, 11.61538763, 14.45729109, 14.64402186,\n",
       "       24.14145594, 22.70873851, 23.37379119, 22.64951455, 31.74193298,\n",
       "       34.54204849, 27.58611291, 25.17867436, 24.18151264, 22.90523928,\n",
       "       22.15572472, 20.26191386, 17.85234857,  8.5071921 , 17.14163933,\n",
       "       21.12611181, 23.71587266, 27.75289469, 23.93146756, 15.05032112,\n",
       "       30.64239719, 24.3953698 , 33.5261546 , 21.62289099, 21.16278011,\n",
       "       17.41641328, 17.57480033, 24.06501729, 22.5502131 , 22.17089456,\n",
       "       29.16834785, 26.19995125, 21.13689766, 17.40285449, 20.61387116,\n",
       "       25.55169986, 21.94049879, 24.71196828, 23.89995928, 25.45669334,\n",
       "       24.17590504, 22.5580063 , 22.73162523, 20.97287401, 22.52872716,\n",
       "       28.46562205, 27.435351  , 25.71183356, 25.14429121, 24.88167227,\n",
       "       27.75065747, 22.32344744, 25.99442935, 31.193739  , 31.33623354,\n",
       "       27.05140937, 28.07397292, 29.1395086 , 29.47504323, 26.81423848,\n",
       "       28.6409337 , 25.45254265, 35.41359305, 35.08585151, 32.49386995,\n",
       "       24.10875184, 25.78116784, 22.61278732, 20.22834881, 21.89302227,\n",
       "       18.19712978, 16.50428691, 20.32938103, 22.35727671, 19.87643697,\n",
       "       19.82487691, 26.59538429, 20.57695009, 20.42651503, 25.63819554,\n",
       "       20.45148272, 22.73077481, 23.5537758 , 20.41506995, 20.64221958,\n",
       "       21.02036154, 22.77269877, 20.57149264, 16.58569866, 20.71512504,\n",
       "       22.49421265, 14.96097625, 15.00908906, 18.50960463, 13.37542717,\n",
       "       20.17768407, 19.07977414, 20.04732599, 15.42445751, 14.08754968,\n",
       "       16.35746599, 15.4059062 , 19.43930424, 13.96669463, 15.58451169,\n",
       "       13.4338309 ,  2.82257949, 13.4941095 , 12.04641659,  8.82656595,\n",
       "       11.90862404, 16.64198234,  8.20711696,  8.27631631, 14.46192662,\n",
       "       20.786652  , 18.43786638, 20.9766265 , 18.34075512, 22.4093623 ,\n",
       "       23.15350687, 16.41578392, 33.03398059, 29.85514961, 24.61983888,\n",
       "       32.57177335, 36.56621034, 40.04528401, 40.90242818, 23.71134107,\n",
       "       26.636731  , 36.48273084, 24.65290691, 26.67488415, 26.74783621,\n",
       "       23.17208936, 24.33491875, 23.86043531, 28.56660145, 26.84256414,\n",
       "       30.38386988, 25.97880062, 29.11064168, 31.41489609, 33.34955601,\n",
       "       33.94078403, 28.25642397, 34.15455192, 30.92455392, 22.94496062,\n",
       "       24.50366607, 35.02970773, 34.15865787, 33.23452051, 34.21787104,\n",
       "       30.17503609, 30.16542602, 32.71691781, 32.29694957, 32.03258127,\n",
       "       40.45719006, 35.94240163, 32.26998146, 34.07500347, 29.7671753 ,\n",
       "       30.84144947, 29.3741467 , 37.40257174, 41.75494411, 43.35571186,\n",
       "       22.43374607, 23.89402018, 17.71056014, 23.26121941, 16.84707642,\n",
       "       21.65493975, 17.50494465, 22.56875175, 25.48298451,  8.90880723,\n",
       "       24.23847233, 26.27739822, 28.12063542, 25.34649753, 30.2985414 ,\n",
       "       33.48236195, 23.76073335, 31.45048038, 29.38139679, 37.89581152,\n",
       "       38.50035   , 37.12546755, 32.7486519 , 36.6394377 , 31.00652949,\n",
       "       24.6820397 , 32.88803732, 37.34505314, 36.71399345, 31.99064667,\n",
       "       25.38679566, 30.42803524, 33.22725124, 28.61972498, 28.20001323,\n",
       "       27.93587618, 23.20960904, 24.31703409, 27.42010268, 16.77762479,\n",
       "       13.52786748, 19.37586667, 20.06200963, 21.20979695, 23.54860701,\n",
       "       23.99915756, 25.09108968, 24.74099389, 28.44078037, 23.52873308,\n",
       "       21.46265637, 37.40593602, 42.33839726, 36.42431022, 35.45805185,\n",
       "       34.03155197, 37.48899548, 39.95652793, 34.81771286, 36.01352853,\n",
       "       28.70156231, 31.40143015, 40.4995245 , 39.45579276, 25.92258939,\n",
       "       21.98502007, 26.8450603 , 28.48391426, 34.9461452 , 36.4322334 ,\n",
       "       33.79477609, 35.49102241, 34.92681015, 30.64862359, 34.972927  ,\n",
       "       38.41354922, 34.54759812, 40.28025696, 44.72433334, 31.59874697,\n",
       "       27.11029997, 20.54935124, 27.46207846, 27.70706582, 27.16553976,\n",
       "       33.51510732, 34.39723967, 32.21594644, 25.37706499, 24.25213937,\n",
       "       28.09801133, 27.63447009, 19.06495281, 29.79094209, 31.58964638,\n",
       "       30.57298629, 28.77232128, 28.77574325, 32.87241139, 32.85523807,\n",
       "       31.38430052, 35.59658706, 32.98382007, 28.26650439, 23.83957674,\n",
       "       19.25553966, 26.83114755, 23.23578545, 25.05873977, 25.44568205,\n",
       "       20.94414017, 17.12414864, 18.14904257, 24.11941998, 21.39667172,\n",
       "       24.9263838 , 24.69428114, 22.48482153, 20.00341619, 25.01419193,\n",
       "       24.45415087, 23.67093006, 19.68393979, 21.56437911, 24.11301585,\n",
       "       21.95206291, 19.73872829, 23.58376331, 22.78036373, 21.28067275,\n",
       "       21.05079367, 20.12234346, 19.16867252, 22.44801412, 20.98474608,\n",
       "       21.11304533, 29.84045513, 21.63473883, 27.53769847, 28.58838628,\n",
       "       16.54390802, 14.79389654, 25.23589676, 27.47211447, 22.07142682,\n",
       "       19.73394951, 19.59177569, 16.11783446, 24.10217778, 13.86398038,\n",
       "       16.64750035, 19.43137068, 22.18048165, 21.19026574, 18.0410349 ,\n",
       "       21.51683448, 18.36048556, 18.21093845, 19.33459925, 39.38125379,\n",
       "       15.87335064, 15.86817203,  8.67120011, 19.87006066, 31.18924203,\n",
       "       32.93504103, 24.03134023, 24.32105341,  4.27590468, -0.30866922,\n",
       "       23.80830602, 17.92127386, 18.91125693, 14.26709535, 15.8143096 ,\n",
       "       10.75377624, 17.08038479, 12.491433  , 12.13641751,  3.34675102,\n",
       "        6.33683938,  5.0583978 ,  3.81372233,  5.10071462, 13.75605573,\n",
       "       16.95665145, 16.56254222,  9.00326187, 19.6356314 , 16.70144007,\n",
       "       19.45738385, 18.06771826, 15.75438001,  5.1329427 , 11.2106298 ,\n",
       "       10.59446064, 16.48444005, 17.44809278, 10.81364589,  6.0279345 ,\n",
       "        6.69169579,  8.19434802, 20.13421041, 13.36175819, 20.43503504,\n",
       "       15.67596418, 19.37686344,  3.47631352, 10.91582205, -3.56940321,\n",
       "       11.63683964, 17.33057666,  8.01987105,  7.59230924, 16.4624242 ,\n",
       "       19.27696829, 17.62991509, 19.32807008, 15.75002735, 18.0340903 ,\n",
       "       12.30578336, 19.29957611, 15.93172133, 16.00814799, 15.99027023,\n",
       "       19.86448254, 19.8162058 , 23.74040341, 18.88947519, 17.28330455,\n",
       "       14.29396559, 17.32139127, 11.11215226,  5.83590992, 12.10736007,\n",
       "       11.57072857, 16.00179555, 17.75579601, 17.02000721, 11.83811969,\n",
       "       13.98212949, 17.53881025, 17.1136191 , 16.60414134, 16.95001834,\n",
       "       20.02515831, 19.50758213, 17.37718749, 23.18831872, 17.48601316,\n",
       "       18.73296132, 15.49048504, 15.5007007 , 17.5234824 , 17.35010889,\n",
       "       19.1809206 , 19.62214033, 19.20960372, 20.97673669, 19.25477428,\n",
       "       17.69452184, 16.77385593, 16.26587972, 16.10329274, 18.00516302,\n",
       "       19.58206081, 21.65672552, 21.70268605, 24.54491903, 16.3547238 ,\n",
       "       16.15342755, 20.01967455, 10.94687285, 17.99451431, 20.43017077,\n",
       "       22.15744561, 26.74918122, 28.1532973 , 20.76942574, 19.11862019,\n",
       "       21.11295988, 19.1325796 , 21.0676706 , 10.48405539,  7.89538999,\n",
       "        1.97236446, 13.24031478, 15.47253157, 20.37111052, 20.33677574,\n",
       "       15.57764858, 13.59603104, 18.62289969, 21.45551604, 18.6271538 ,\n",
       "       20.41956528, 23.48636973, 22.46499066, 27.84855049, 26.28902995,\n",
       "       22.93562192])"
      ]
     },
     "execution_count": 7,
     "metadata": {},
     "output_type": "execute_result"
    }
   ],
   "source": [
    "cross_val_predict(model, X, y, cv=kfold)"
   ]
  },
  {
   "cell_type": "markdown",
   "metadata": {},
   "source": [
    "### Alternative evaluation metrics"
   ]
  },
  {
   "cell_type": "markdown",
   "metadata": {},
   "source": [
    "Get a list of alternative evaluation metrics that can be used in the call to cross_val_score():"
   ]
  },
  {
   "cell_type": "code",
   "execution_count": 8,
   "metadata": {},
   "outputs": [
    {
     "data": {
      "text/plain": [
       "['accuracy',\n",
       " 'adjusted_mutual_info_score',\n",
       " 'adjusted_rand_score',\n",
       " 'average_precision',\n",
       " 'balanced_accuracy',\n",
       " 'brier_score_loss',\n",
       " 'completeness_score',\n",
       " 'explained_variance',\n",
       " 'f1',\n",
       " 'f1_macro',\n",
       " 'f1_micro',\n",
       " 'f1_samples',\n",
       " 'f1_weighted',\n",
       " 'fowlkes_mallows_score',\n",
       " 'homogeneity_score',\n",
       " 'mutual_info_score',\n",
       " 'neg_log_loss',\n",
       " 'neg_mean_absolute_error',\n",
       " 'neg_mean_squared_error',\n",
       " 'neg_mean_squared_log_error',\n",
       " 'neg_median_absolute_error',\n",
       " 'normalized_mutual_info_score',\n",
       " 'precision',\n",
       " 'precision_macro',\n",
       " 'precision_micro',\n",
       " 'precision_samples',\n",
       " 'precision_weighted',\n",
       " 'r2',\n",
       " 'recall',\n",
       " 'recall_macro',\n",
       " 'recall_micro',\n",
       " 'recall_samples',\n",
       " 'recall_weighted',\n",
       " 'roc_auc',\n",
       " 'v_measure_score']"
      ]
     },
     "execution_count": 8,
     "metadata": {},
     "output_type": "execute_result"
    }
   ],
   "source": [
    "from sklearn.metrics import SCORERS\n",
    "sorted(SCORERS.keys())"
   ]
  }
 ],
 "metadata": {
  "kernelspec": {
   "display_name": "Python 3",
   "language": "python",
   "name": "python3"
  },
  "language_info": {
   "codemirror_mode": {
    "name": "ipython",
    "version": 3
   },
   "file_extension": ".py",
   "mimetype": "text/x-python",
   "name": "python",
   "nbconvert_exporter": "python",
   "pygments_lexer": "ipython3",
   "version": "3.7.3"
  }
 },
 "nbformat": 4,
 "nbformat_minor": 2
}
