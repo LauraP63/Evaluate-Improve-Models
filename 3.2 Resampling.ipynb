{
 "cells": [
  {
   "cell_type": "markdown",
   "metadata": {},
   "source": [
    "# Resampling\n",
    "This notebook explores resampling. It uses the boston house price dataset built into Sklearn."
   ]
  },
  {
   "cell_type": "markdown",
   "metadata": {},
   "source": [
    "## Imports"
   ]
  },
  {
   "cell_type": "code",
   "execution_count": 2,
   "metadata": {},
   "outputs": [],
   "source": [
    "# Core libraries\n",
    "import pandas as pd\n",
    "\n",
    "# Sklearn processing\n",
    "from sklearn.preprocessing import MinMaxScaler\n",
    "from sklearn.model_selection import train_test_split\n",
    "from sklearn.model_selection import KFold\n",
    "from sklearn.model_selection import cross_val_score\n",
    "from sklearn.model_selection import cross_val_predict\n",
    "\n",
    "# Sklearn regression algorithms\n",
    "from sklearn.linear_model import LinearRegression\n",
    "\n",
    "# Sklearn regression model evaluation functions\n",
    "from sklearn.metrics import mean_absolute_error\n",
    "from sklearn.metrics import mean_squared_error\n",
    "from math import sqrt\n",
    "from sklearn.metrics import r2_score"
   ]
  },
  {
   "cell_type": "markdown",
   "metadata": {},
   "source": [
    "## Load data, split into X and y and scale data"
   ]
  },
  {
   "cell_type": "code",
   "execution_count": 3,
   "metadata": {},
   "outputs": [],
   "source": [
    "# Load built-in sample data set\n",
    "from sklearn.datasets import load_boston\n",
    "boston = load_boston()\n",
    "\n",
    "# Define the X (input) and y (target) features\n",
    "X = boston.data\n",
    "y = boston.target\n",
    "\n",
    "# Rescale the input features\n",
    "scaler = MinMaxScaler(feature_range=(0,1))\n",
    "X = scaler.fit_transform(boston.data)"
   ]
  },
  {
   "cell_type": "markdown",
   "metadata": {},
   "source": [
    "## Resample using train / test split method"
   ]
  },
  {
   "cell_type": "code",
   "execution_count": 4,
   "metadata": {},
   "outputs": [
    {
     "data": {
      "text/plain": [
       "0.6663089606572572"
      ]
     },
     "execution_count": 4,
     "metadata": {},
     "output_type": "execute_result"
    }
   ],
   "source": [
    "# Train test split\n",
    "test_size = 0.33\n",
    "seed = 7\n",
    "X_train, X_test, y_train, y_test = train_test_split(X, y, test_size=test_size, random_state=seed)\n",
    "\n",
    "# Create model\n",
    "model = LinearRegression()\n",
    "\n",
    "#Fit model\n",
    "model.fit(X_train, y_train)\n",
    "\n",
    "# Evaluate\n",
    "predictions = model.predict(X_test)\n",
    "r2_score(y_test, predictions)"
   ]
  },
  {
   "cell_type": "markdown",
   "metadata": {},
   "source": [
    "## Resample using k-fold cross-validation method"
   ]
  },
  {
   "cell_type": "code",
   "execution_count": 5,
   "metadata": {},
   "outputs": [
    {
     "name": "stdout",
     "output_type": "stream",
     "text": [
      "[0.57854155 0.7778757  0.65202483 0.72660245 0.81452587]\n",
      "Mean: 0.7099140812635653\n",
      "Std: 0.08538245536223632\n"
     ]
    }
   ],
   "source": [
    "# Create 5 folds\n",
    "seed = 7\n",
    "kfold = KFold(n_splits=5, shuffle=True, random_state=seed)\n",
    "\n",
    "# Create a model \n",
    "model = LinearRegression()\n",
    "\n",
    "# Train and evaluate multiple models using kfolds\n",
    "results = cross_val_score(model, X, y, cv=kfold, scoring='r2')\n",
    "print(results)\n",
    "print(\"Mean:\", results.mean())\n",
    "print(\"Std:\", results.std())"
   ]
  },
  {
   "cell_type": "markdown",
   "metadata": {},
   "source": [
    "### Finalise model"
   ]
  },
  {
   "cell_type": "markdown",
   "metadata": {},
   "source": [
    "Note that the above model is not fitted when cross_val_score() returns.  The following inspection of the model returns an error:"
   ]
  },
  {
   "cell_type": "code",
   "execution_count": 6,
   "metadata": {},
   "outputs": [
    {
     "ename": "AttributeError",
     "evalue": "'LinearRegression' object has no attribute 'coef_'",
     "output_type": "error",
     "traceback": [
      "\u001b[1;31m---------------------------------------------------------------------------\u001b[0m",
      "\u001b[1;31mAttributeError\u001b[0m                            Traceback (most recent call last)",
      "\u001b[1;32m<ipython-input-6-4650e3f7c16c>\u001b[0m in \u001b[0;36m<module>\u001b[1;34m\u001b[0m\n\u001b[1;32m----> 1\u001b[1;33m \u001b[0mmodel\u001b[0m\u001b[1;33m.\u001b[0m\u001b[0mcoef_\u001b[0m\u001b[1;33m\u001b[0m\u001b[1;33m\u001b[0m\u001b[0m\n\u001b[0m",
      "\u001b[1;31mAttributeError\u001b[0m: 'LinearRegression' object has no attribute 'coef_'"
     ]
    }
   ],
   "source": [
    "model.coef_"
   ]
  },
  {
   "cell_type": "markdown",
   "metadata": {},
   "source": [
    "If we want to proceed to build our final model we can fit it using all the data:"
   ]
  },
  {
   "cell_type": "code",
   "execution_count": 7,
   "metadata": {},
   "outputs": [
    {
     "data": {
      "text/plain": [
       "LinearRegression(copy_X=True, fit_intercept=True, n_jobs=None,\n",
       "         normalize=False)"
      ]
     },
     "execution_count": 7,
     "metadata": {},
     "output_type": "execute_result"
    }
   ],
   "source": [
    "model.fit(X, y)"
   ]
  },
  {
   "cell_type": "markdown",
   "metadata": {},
   "source": [
    "Get the cross-validation predictions:"
   ]
  },
  {
   "cell_type": "code",
   "execution_count": 8,
   "metadata": {},
   "outputs": [
    {
     "data": {
      "text/plain": [
       "array([29.78598216, 25.1101617 , 31.25366363, 28.57082895, 27.61096828,\n",
       "       25.67980513, 22.96665196, 18.95836224, 11.24148715, 18.31703683,\n",
       "       18.85408884, 20.97975714, 20.77125804, 19.19222285, 19.3503863 ,\n",
       "       19.29929357, 20.34544005, 17.02296496, 16.75073234, 18.4097657 ,\n",
       "       12.34945917, 17.64296287, 16.65787755, 13.73879305, 15.25287301,\n",
       "       13.47218997, 15.43116443, 14.44253264, 19.45105871, 20.78411284,\n",
       "       12.17069386, 17.93815075, 10.54355651, 14.28059453, 13.59803026,\n",
       "       24.11760088, 22.53456569, 23.37391825, 22.73044931, 31.68958811,\n",
       "       34.4939606 , 27.59319317, 25.12100859, 24.30023082, 22.90209276,\n",
       "       22.1668571 , 20.35159727, 17.9758763 ,  8.88262872, 17.2333787 ,\n",
       "       21.21235318, 23.6486951 , 27.84572867, 23.96330998, 15.19682414,\n",
       "       30.73437068, 24.28935509, 33.4659491 , 21.68413942, 21.19225355,\n",
       "       17.48971422, 17.49219924, 24.10484188, 22.79549347, 22.22201393,\n",
       "       29.15015547, 26.16144135, 21.18431783, 17.50796887, 20.61271014,\n",
       "       25.54261203, 21.88071782, 24.70496092, 23.82344284, 25.69615651,\n",
       "       24.19531416, 22.39304223, 22.75754273, 21.07735012, 22.61377674,\n",
       "       28.48789164, 27.41667486, 25.70473506, 25.06727816, 24.92695777,\n",
       "       27.63609741, 22.36506015, 25.87151589, 31.1976265 , 31.32207069,\n",
       "       26.95807073, 28.01516635, 29.19219214, 29.50534576, 26.84585088,\n",
       "       28.12555423, 25.38578307, 35.41550861, 35.20190387, 32.58837218,\n",
       "       24.21587252, 25.86680086, 19.8368936 , 20.30277887, 21.95092878,\n",
       "       18.29549635, 16.71902592, 20.37909216, 22.38437996, 19.9985543 ,\n",
       "       20.06135782, 26.8235531 , 20.80297822, 20.68277626, 25.71968653,\n",
       "       20.19316318, 22.96565881, 23.66583544, 20.13979012, 20.83174688,\n",
       "       21.16939205, 22.75873613, 20.67190491, 16.71596009, 20.75759834,\n",
       "       22.58109575, 15.09331325, 15.22884433, 18.83331778, 13.70434194,\n",
       "       20.37765065, 19.40522058, 20.14272922, 15.59531951, 13.01758986,\n",
       "       16.80657162, 15.61501307, 19.66909624, 14.39403714, 15.98860872,\n",
       "       13.89529549,  3.39244042, 14.44779381, 12.90778425,  9.66617782,\n",
       "       10.67030331, 15.03714945,  9.13663239,  8.59032762, 14.75133902,\n",
       "       21.18536579, 18.43787904, 20.84430879, 17.77064032, 22.23315206,\n",
       "       20.59834287, 14.3149197 , 32.95824478, 29.47300733, 24.75062128,\n",
       "       32.04605259, 36.55523962, 40.24731683, 41.22624674, 23.91785914,\n",
       "       25.47480474, 36.55665911, 23.58708259, 25.93908157, 26.39615539,\n",
       "       22.61083143, 24.19085283, 23.86462935, 28.55636813, 26.76681755,\n",
       "       30.43080472, 26.02310828, 29.03796509, 31.39801316, 33.3434758 ,\n",
       "       34.00199229, 28.1412897 , 33.94885465, 30.79108397, 22.75424529,\n",
       "       24.46639295, 35.10379207, 34.21830814, 33.1394733 , 34.35224723,\n",
       "       30.19394237, 30.23252651, 32.79457611, 32.27958483, 31.80324267,\n",
       "       40.50330147, 36.03030395, 32.00149092, 34.17184827, 29.89336714,\n",
       "       30.82105965, 29.37148521, 37.57971161, 41.77904392, 43.48010393,\n",
       "       22.54579952, 24.05581239, 17.83966984, 23.10790211, 16.84081125,\n",
       "       21.5928151 , 17.6316165 , 22.57121137, 25.59759605,  9.23544328,\n",
       "       24.33981714, 26.33425318, 28.28593285, 25.50427072, 30.31926123,\n",
       "       33.51635505, 23.94725564, 31.41421702, 29.44893017, 37.95293487,\n",
       "       38.6845677 , 37.172162  , 32.65621834, 36.92662958, 31.00733674,\n",
       "       24.6408736 , 32.85636155, 37.48750005, 36.74212972, 31.56663436,\n",
       "       25.34651176, 30.36204086, 33.34913725, 28.54253996, 28.19384273,\n",
       "       28.16696033, 23.29677444, 24.22450019, 27.37577934, 16.57635178,\n",
       "       13.68016992, 19.4603381 , 19.96934006, 21.14877892, 23.69676109,\n",
       "       24.12378787, 25.01467072, 24.79752341, 28.8540921 , 23.44909158,\n",
       "       21.47540899, 37.32169943, 42.56529401, 36.53306369, 35.53934941,\n",
       "       34.27747572, 37.73163321, 40.32780905, 35.19539209, 36.15651478,\n",
       "       28.89750594, 31.71160606, 40.78409371, 39.65470263, 25.69623834,\n",
       "       22.00151727, 26.91042242, 28.44815777, 34.86183687, 36.32004381,\n",
       "       33.75750641, 35.2987567 , 34.82958896, 30.67216975, 35.04174177,\n",
       "       38.42732162, 34.56630494, 39.93368743, 44.70201684, 31.71775672,\n",
       "       27.09499068, 20.13282587, 27.49713772, 27.71259213, 27.17821308,\n",
       "       33.43113153, 34.3399042 , 32.1266359 , 25.52742653, 24.41353615,\n",
       "       28.29305453, 27.71713116, 19.27230984, 29.53311947, 31.52866542,\n",
       "       30.58940542, 29.02828657, 28.96361876, 33.09225886, 33.02116146,\n",
       "       31.37729434, 35.69676984, 32.9886431 , 28.18927831, 23.88454647,\n",
       "       18.86249496, 26.87998643, 23.31280916, 24.99282465, 25.56996398,\n",
       "       20.99918526, 17.37374053, 18.34940925, 24.26136954, 21.63135449,\n",
       "       24.99342967, 24.69816403, 22.49586427, 19.93783112, 25.08242682,\n",
       "       24.51630176, 23.80170302, 19.93133255, 21.52009109, 24.09299031,\n",
       "       21.80926263, 19.8210222 , 23.24176661, 22.77476879, 21.26781051,\n",
       "       21.16374528, 20.13471765, 19.17545246, 22.54630093, 21.03734854,\n",
       "       21.10693712, 29.8877192 , 21.69995967, 27.62246399, 28.68025384,\n",
       "       16.53883026, 14.60116223, 25.24971409, 27.47085961, 22.00515925,\n",
       "       19.66769041, 19.45398839, 16.16437774, 24.0736388 , 13.62658262,\n",
       "       16.37848697, 20.07198331, 23.01607649, 21.98077925, 19.01042131,\n",
       "       22.07543689, 18.96002469, 18.54639197, 19.71185622, 40.01902667,\n",
       "       15.57604784, 15.84834823,  6.28489117, 19.82831953, 31.34423586,\n",
       "       33.26997606, 24.38643028, 24.31159973,  5.84220794,  0.89634516,\n",
       "       25.29034283, 18.92203938, 20.00777484, 15.52128303, 16.81494295,\n",
       "       13.2127695 , 18.20484169, 13.79357131, 13.06514244,  3.34272823,\n",
       "        8.03322153,  6.20076988,  5.67850705,  6.11177952, 14.91628526,\n",
       "       18.00132825, 17.26610242,  9.97330532, 20.7753381 , 17.59778149,\n",
       "       20.27224699, 19.04081126, 16.49386433,  6.55801525, 12.15272306,\n",
       "       11.81398995, 17.93009236, 18.19972086, 11.75829383,  7.55451807,\n",
       "        9.25467402,  8.73422948, 20.29808168, 13.67556247, 19.61162771,\n",
       "       12.16976487, 17.32391277,  1.04166467,  9.80535814, -4.75534333,\n",
       "        9.77374852, 15.01638724,  6.73588214,  4.73366059, 14.66796967,\n",
       "       19.50077733, 17.81937975, 19.04096872, 13.37238547, 15.09624725,\n",
       "        9.77749515, 16.65118375, 13.78139908, 14.45846584, 13.90509747,\n",
       "       18.04779893, 17.65039294, 21.9570631 , 16.87061403, 15.6910509 ,\n",
       "       12.76536555, 14.76458951,  9.03367738,  4.0985279 , 13.50289888,\n",
       "       12.72337128, 16.98257491, 18.81377591, 18.31057931, 11.57818005,\n",
       "       12.10979352, 17.94736849, 17.90954709, 17.48887339, 17.25389225,\n",
       "       17.21466607, 20.27036037, 18.2125107 , 24.2702325 , 14.88301295,\n",
       "       16.44852282, 12.48951367, 12.69376517, 17.42899912, 18.36942302,\n",
       "       18.72942118, 20.66243576, 20.37264687, 21.75065247, 20.27107157,\n",
       "       17.97693861, 13.98488866, 16.56826191, 17.08362786, 18.77172121,\n",
       "       20.30998265, 22.38921838, 22.64542356, 25.36491906, 16.71862722,\n",
       "       16.25104743, 21.10593843, 11.75225436, 18.73002238, 21.13445607,\n",
       "       22.95506565, 27.31952575, 28.74725385, 21.35942544, 19.61399556,\n",
       "       21.80013774, 19.82858397, 21.57210982, 10.95739618,  7.94861154,\n",
       "        1.93080226, 13.652803  , 15.85862807, 20.57008469, 20.75020815,\n",
       "       16.14532218, 13.92753934, 18.89665346, 21.65576999, 18.78277482,\n",
       "       20.62373668, 23.4797138 , 22.43532301, 27.75398389, 26.16279492,\n",
       "       22.85696762])"
      ]
     },
     "execution_count": 8,
     "metadata": {},
     "output_type": "execute_result"
    }
   ],
   "source": [
    "cross_val_predict(model, X, y, cv=kfold)"
   ]
  },
  {
   "cell_type": "markdown",
   "metadata": {},
   "source": [
    "### Alternative evaluation metrics"
   ]
  },
  {
   "cell_type": "markdown",
   "metadata": {},
   "source": [
    "Get a list of alternative evaluation metrics that can be used in the call to cross_val_score():"
   ]
  },
  {
   "cell_type": "code",
   "execution_count": 9,
   "metadata": {},
   "outputs": [
    {
     "data": {
      "text/plain": [
       "['accuracy',\n",
       " 'adjusted_mutual_info_score',\n",
       " 'adjusted_rand_score',\n",
       " 'average_precision',\n",
       " 'balanced_accuracy',\n",
       " 'brier_score_loss',\n",
       " 'completeness_score',\n",
       " 'explained_variance',\n",
       " 'f1',\n",
       " 'f1_macro',\n",
       " 'f1_micro',\n",
       " 'f1_samples',\n",
       " 'f1_weighted',\n",
       " 'fowlkes_mallows_score',\n",
       " 'homogeneity_score',\n",
       " 'mutual_info_score',\n",
       " 'neg_log_loss',\n",
       " 'neg_mean_absolute_error',\n",
       " 'neg_mean_squared_error',\n",
       " 'neg_mean_squared_log_error',\n",
       " 'neg_median_absolute_error',\n",
       " 'normalized_mutual_info_score',\n",
       " 'precision',\n",
       " 'precision_macro',\n",
       " 'precision_micro',\n",
       " 'precision_samples',\n",
       " 'precision_weighted',\n",
       " 'r2',\n",
       " 'recall',\n",
       " 'recall_macro',\n",
       " 'recall_micro',\n",
       " 'recall_samples',\n",
       " 'recall_weighted',\n",
       " 'roc_auc',\n",
       " 'v_measure_score']"
      ]
     },
     "execution_count": 9,
     "metadata": {},
     "output_type": "execute_result"
    }
   ],
   "source": [
    "from sklearn.metrics import SCORERS\n",
    "sorted(SCORERS.keys())"
   ]
  }
 ],
 "metadata": {
  "kernelspec": {
   "display_name": "Python 3",
   "language": "python",
   "name": "python3"
  },
  "language_info": {
   "codemirror_mode": {
    "name": "ipython",
    "version": 3
   },
   "file_extension": ".py",
   "mimetype": "text/x-python",
   "name": "python",
   "nbconvert_exporter": "python",
   "pygments_lexer": "ipython3",
   "version": "3.7.3"
  }
 },
 "nbformat": 4,
 "nbformat_minor": 2
}
